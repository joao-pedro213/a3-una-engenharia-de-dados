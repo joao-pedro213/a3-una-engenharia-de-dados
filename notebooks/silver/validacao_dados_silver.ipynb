{
  "cells": [
    {
      "cell_type": "code",
      "execution_count": null,
      "metadata": {
        "id": "6_lj2Yfk3A44"
      },
      "outputs": [],
      "source": [
        "from os import listdir\n",
        "from datetime import datetime\n",
        "from typing import List\n",
        "\n",
        "from google.colab import drive\n",
        "from numpy import where\n",
        "from pandas import DataFrame, read_csv, concat"
      ]
    },
    {
      "cell_type": "code",
      "execution_count": null,
      "metadata": {
        "colab": {
          "base_uri": "https://localhost:8080/"
        },
        "id": "SiSB2HbJ3Fj3",
        "outputId": "175f26ce-9029-4b6a-e834-18e951e70a8d"
      },
      "outputs": [
        {
          "name": "stdout",
          "output_type": "stream",
          "text": [
            "Mounted at /content/drive\n"
          ]
        }
      ],
      "source": [
        "# cria o ponto de entrada para o google drive\n",
        "drive.mount(\"/content/drive\")"
      ]
    },
    {
      "cell_type": "code",
      "execution_count": null,
      "metadata": {
        "id": "DAu7vj-68BAv"
      },
      "outputs": [],
      "source": [
        "class Logger:\n",
        "    def log_informacao(self, mensagem: str) -> None:\n",
        "        \"\"\"\n",
        "        Padronização de print\n",
        "        \"\"\"\n",
        "        print(f\"{datetime.utcnow()} - {mensagem}\")\n"
      ]
    },
    {
      "cell_type": "code",
      "execution_count": null,
      "metadata": {
        "id": "Ujiv0MZz6L0s"
      },
      "outputs": [],
      "source": [
        "logger = Logger()\n",
        "\n",
        "\n",
        "def criar_lista_de_arquivos() -> List[str]:\n",
        "    logger.log_informacao(\n",
        "        mensagem=f\"Criando lista de arquivos a serem processados\")\n",
        "    lista_arquivos_a_serem_processados = []\n",
        "    lista_arquivos_bronze = listdir(\n",
        "        path=(\n",
        "            \"/content/drive/MyDrive/engenharia_de_dados\"\n",
        "            \"/a3/dados/silver/ibge/\"\n",
        "        ))\n",
        "    for arquivo in lista_arquivos_bronze:\n",
        "        lista_arquivos_a_serem_processados.append(arquivo.replace(\".csv\", \"\"))\n",
        "    return lista_arquivos_a_serem_processados\n",
        "\n",
        "\n",
        "def extrair_tabela_paic_silver(nome_da_tabela: str) -> DataFrame:\n",
        "    \"\"\"\n",
        "    Lê a tabela localizada na camada silver do drive\n",
        "    \"\"\"\n",
        "    logger.log_informacao(mensagem=f\"Lendo a tabela bronze {nome_da_tabela}\")\n",
        "    caminho = (\n",
        "        \"/content/drive/MyDrive/engenharia_de_dados\"\n",
        "        + f\"/a3/dados/silver/ibge/{nome_da_tabela}.csv\"\n",
        "    )\n",
        "    tabela_paic = read_csv(filepath_or_buffer=caminho, sep=\";\")\n",
        "    tabela_paic.loc[:, (\"pesquisa\")] = nome_da_tabela.replace(\"_silver\", \"\")\n",
        "    return tabela_paic\n",
        "\n",
        "\n",
        "def gerar_tabela_silver_unificada(arquivos_de_entrada: List[str]) -> DataFrame:\n",
        "    tabelas_paic = []\n",
        "    for arquivo in arquivos_de_entrada:\n",
        "        tabela_paic = extrair_tabela_paic_silver(nome_da_tabela=arquivo)\n",
        "        tabelas_paic.append(tabela_paic)\n",
        "    return concat(objs=tabelas_paic)"
      ]
    },
    {
      "cell_type": "code",
      "execution_count": null,
      "metadata": {
        "colab": {
          "base_uri": "https://localhost:8080/"
        },
        "id": "jLC_z-HrVQch",
        "outputId": "44a99c6b-c927-4dfa-989a-0f3b17a49aea"
      },
      "outputs": [
        {
          "name": "stdout",
          "output_type": "stream",
          "text": [
            "2022-09-28 22:00:02.830104 - Criando lista de arquivos a serem processados\n",
            "2022-09-28 22:00:03.928626 - Lendo a tabela bronze emprego_e_salario_silver\n",
            "2022-09-28 22:00:04.345693 - Lendo a tabela bronze estrutura_das_receitas_silver\n",
            "2022-09-28 22:00:04.555868 - Lendo a tabela bronze estrutura_do_valor_bruto_silver\n",
            "2022-09-28 22:00:04.804942 - Lendo a tabela bronze consumo_total_material_de_construcao_silver\n",
            "2022-09-28 22:00:05.008496 - Lendo a tabela bronze gasto_de_pessoal_silver\n",
            "2022-09-28 22:00:05.188707 - Lendo a tabela bronze estrutura_das_despesas_silver\n",
            "2022-09-28 22:00:05.422652 - Lendo a tabela bronze estrutura_dos_investimentos_silver\n"
          ]
        }
      ],
      "source": [
        "arquivos_para_processar = criar_lista_de_arquivos()\n",
        "tabela_silver_unificada = gerar_tabela_silver_unificada(\n",
        "    arquivos_de_entrada=arquivos_para_processar)"
      ]
    },
    {
      "cell_type": "code",
      "execution_count": null,
      "metadata": {
        "colab": {
          "base_uri": "https://localhost:8080/"
        },
        "id": "wr5POTB1gQAV",
        "outputId": "9562a059-79a5-4741-d1ed-d6a7a9e4cf3a"
      },
      "outputs": [
        {
          "name": "stdout",
          "output_type": "stream",
          "text": [
            "<class 'pandas.core.frame.DataFrame'>\n",
            "Int64Index: 15840 entries, 0 to 2735\n",
            "Data columns (total 7 columns):\n",
            " #   Column             Non-Null Count  Dtype  \n",
            "---  ------             --------------  -----  \n",
            " 0   ano_pesquisa       15840 non-null  int64  \n",
            " 1   variavel           15840 non-null  object \n",
            " 2   codigo_cnae        15840 non-null  float64\n",
            " 3   categoria_empresa  15840 non-null  object \n",
            " 4   valor              15840 non-null  int64  \n",
            " 5   unidade            15840 non-null  object \n",
            " 6   pesquisa           15840 non-null  object \n",
            "dtypes: float64(1), int64(2), object(4)\n",
            "memory usage: 990.0+ KB\n"
          ]
        }
      ],
      "source": [
        "tabela_silver_unificada.info()"
      ]
    },
    {
      "cell_type": "code",
      "execution_count": null,
      "metadata": {
        "colab": {
          "base_uri": "https://localhost:8080/",
          "height": 424
        },
        "id": "32t8f_M0wfma",
        "outputId": "cf96076c-6264-44c3-ebd7-4c73cd1d0719"
      },
      "outputs": [
        {
          "data": {
            "text/html": [
              "\n",
              "  <div id=\"df-65c0484d-a6ce-4544-9f79-e6fff7b3795f\">\n",
              "    <div class=\"colab-df-container\">\n",
              "      <div>\n",
              "<style scoped>\n",
              "    .dataframe tbody tr th:only-of-type {\n",
              "        vertical-align: middle;\n",
              "    }\n",
              "\n",
              "    .dataframe tbody tr th {\n",
              "        vertical-align: top;\n",
              "    }\n",
              "\n",
              "    .dataframe thead th {\n",
              "        text-align: right;\n",
              "    }\n",
              "</style>\n",
              "<table border=\"1\" class=\"dataframe\">\n",
              "  <thead>\n",
              "    <tr style=\"text-align: right;\">\n",
              "      <th></th>\n",
              "      <th>ano_pesquisa</th>\n",
              "      <th>variavel</th>\n",
              "      <th>codigo_cnae</th>\n",
              "      <th>categoria_empresa</th>\n",
              "      <th>valor</th>\n",
              "      <th>unidade</th>\n",
              "      <th>pesquisa</th>\n",
              "    </tr>\n",
              "  </thead>\n",
              "  <tbody>\n",
              "    <tr>\n",
              "      <th>0</th>\n",
              "      <td>2018</td>\n",
              "      <td>Número de empresas ativas</td>\n",
              "      <td>41.00</td>\n",
              "      <td>Empresas entre 1 e 4 de PO</td>\n",
              "      <td>23640</td>\n",
              "      <td>Unidades</td>\n",
              "      <td>emprego_e_salario</td>\n",
              "    </tr>\n",
              "    <tr>\n",
              "      <th>1</th>\n",
              "      <td>2018</td>\n",
              "      <td>Número de empresas ativas</td>\n",
              "      <td>42.00</td>\n",
              "      <td>Empresas entre 1 e 4 de PO</td>\n",
              "      <td>4983</td>\n",
              "      <td>Unidades</td>\n",
              "      <td>emprego_e_salario</td>\n",
              "    </tr>\n",
              "    <tr>\n",
              "      <th>2</th>\n",
              "      <td>2018</td>\n",
              "      <td>Número de empresas ativas</td>\n",
              "      <td>43.00</td>\n",
              "      <td>Empresas entre 1 e 4 de PO</td>\n",
              "      <td>40367</td>\n",
              "      <td>Unidades</td>\n",
              "      <td>emprego_e_salario</td>\n",
              "    </tr>\n",
              "    <tr>\n",
              "      <th>3</th>\n",
              "      <td>2018</td>\n",
              "      <td>Número de empresas ativas</td>\n",
              "      <td>41.00</td>\n",
              "      <td>Empresas entre 5 e 29 de PO</td>\n",
              "      <td>19247</td>\n",
              "      <td>Unidades</td>\n",
              "      <td>emprego_e_salario</td>\n",
              "    </tr>\n",
              "    <tr>\n",
              "      <th>4</th>\n",
              "      <td>2018</td>\n",
              "      <td>Número de empresas ativas</td>\n",
              "      <td>41.10</td>\n",
              "      <td>Empresas entre 5 e 29 de PO</td>\n",
              "      <td>1146</td>\n",
              "      <td>Unidades</td>\n",
              "      <td>emprego_e_salario</td>\n",
              "    </tr>\n",
              "    <tr>\n",
              "      <th>...</th>\n",
              "      <td>...</td>\n",
              "      <td>...</td>\n",
              "      <td>...</td>\n",
              "      <td>...</td>\n",
              "      <td>...</td>\n",
              "      <td>...</td>\n",
              "      <td>...</td>\n",
              "    </tr>\n",
              "    <tr>\n",
              "      <th>2731</th>\n",
              "      <td>2020</td>\n",
              "      <td>Ativo imobilizado - outras baixas</td>\n",
              "      <td>43.30</td>\n",
              "      <td>Empresas com 30 ou mais de PO</td>\n",
              "      <td>2886</td>\n",
              "      <td>Mil Reais</td>\n",
              "      <td>estrutura_dos_investimentos</td>\n",
              "    </tr>\n",
              "    <tr>\n",
              "      <th>2732</th>\n",
              "      <td>2020</td>\n",
              "      <td>Ativo imobilizado - outras baixas</td>\n",
              "      <td>43.30</td>\n",
              "      <td>Empresas com 30 ou mais de PO</td>\n",
              "      <td>2886</td>\n",
              "      <td>Mil Reais</td>\n",
              "      <td>estrutura_dos_investimentos</td>\n",
              "    </tr>\n",
              "    <tr>\n",
              "      <th>2733</th>\n",
              "      <td>2020</td>\n",
              "      <td>Ativo imobilizado - outras baixas</td>\n",
              "      <td>43.90</td>\n",
              "      <td>Empresas com 30 ou mais de PO</td>\n",
              "      <td>11080</td>\n",
              "      <td>Mil Reais</td>\n",
              "      <td>estrutura_dos_investimentos</td>\n",
              "    </tr>\n",
              "    <tr>\n",
              "      <th>2734</th>\n",
              "      <td>2020</td>\n",
              "      <td>Ativo imobilizado - outras baixas</td>\n",
              "      <td>43.91</td>\n",
              "      <td>Empresas com 30 ou mais de PO</td>\n",
              "      <td>1439</td>\n",
              "      <td>Mil Reais</td>\n",
              "      <td>estrutura_dos_investimentos</td>\n",
              "    </tr>\n",
              "    <tr>\n",
              "      <th>2735</th>\n",
              "      <td>2020</td>\n",
              "      <td>Ativo imobilizado - outras baixas</td>\n",
              "      <td>43.99</td>\n",
              "      <td>Empresas com 30 ou mais de PO</td>\n",
              "      <td>9641</td>\n",
              "      <td>Mil Reais</td>\n",
              "      <td>estrutura_dos_investimentos</td>\n",
              "    </tr>\n",
              "  </tbody>\n",
              "</table>\n",
              "<p>15840 rows × 7 columns</p>\n",
              "</div>\n",
              "      <button class=\"colab-df-convert\" onclick=\"convertToInteractive('df-65c0484d-a6ce-4544-9f79-e6fff7b3795f')\"\n",
              "              title=\"Convert this dataframe to an interactive table.\"\n",
              "              style=\"display:none;\">\n",
              "        \n",
              "  <svg xmlns=\"http://www.w3.org/2000/svg\" height=\"24px\"viewBox=\"0 0 24 24\"\n",
              "       width=\"24px\">\n",
              "    <path d=\"M0 0h24v24H0V0z\" fill=\"none\"/>\n",
              "    <path d=\"M18.56 5.44l.94 2.06.94-2.06 2.06-.94-2.06-.94-.94-2.06-.94 2.06-2.06.94zm-11 1L8.5 8.5l.94-2.06 2.06-.94-2.06-.94L8.5 2.5l-.94 2.06-2.06.94zm10 10l.94 2.06.94-2.06 2.06-.94-2.06-.94-.94-2.06-.94 2.06-2.06.94z\"/><path d=\"M17.41 7.96l-1.37-1.37c-.4-.4-.92-.59-1.43-.59-.52 0-1.04.2-1.43.59L10.3 9.45l-7.72 7.72c-.78.78-.78 2.05 0 2.83L4 21.41c.39.39.9.59 1.41.59.51 0 1.02-.2 1.41-.59l7.78-7.78 2.81-2.81c.8-.78.8-2.07 0-2.86zM5.41 20L4 18.59l7.72-7.72 1.47 1.35L5.41 20z\"/>\n",
              "  </svg>\n",
              "      </button>\n",
              "      \n",
              "  <style>\n",
              "    .colab-df-container {\n",
              "      display:flex;\n",
              "      flex-wrap:wrap;\n",
              "      gap: 12px;\n",
              "    }\n",
              "\n",
              "    .colab-df-convert {\n",
              "      background-color: #E8F0FE;\n",
              "      border: none;\n",
              "      border-radius: 50%;\n",
              "      cursor: pointer;\n",
              "      display: none;\n",
              "      fill: #1967D2;\n",
              "      height: 32px;\n",
              "      padding: 0 0 0 0;\n",
              "      width: 32px;\n",
              "    }\n",
              "\n",
              "    .colab-df-convert:hover {\n",
              "      background-color: #E2EBFA;\n",
              "      box-shadow: 0px 1px 2px rgba(60, 64, 67, 0.3), 0px 1px 3px 1px rgba(60, 64, 67, 0.15);\n",
              "      fill: #174EA6;\n",
              "    }\n",
              "\n",
              "    [theme=dark] .colab-df-convert {\n",
              "      background-color: #3B4455;\n",
              "      fill: #D2E3FC;\n",
              "    }\n",
              "\n",
              "    [theme=dark] .colab-df-convert:hover {\n",
              "      background-color: #434B5C;\n",
              "      box-shadow: 0px 1px 3px 1px rgba(0, 0, 0, 0.15);\n",
              "      filter: drop-shadow(0px 1px 2px rgba(0, 0, 0, 0.3));\n",
              "      fill: #FFFFFF;\n",
              "    }\n",
              "  </style>\n",
              "\n",
              "      <script>\n",
              "        const buttonEl =\n",
              "          document.querySelector('#df-65c0484d-a6ce-4544-9f79-e6fff7b3795f button.colab-df-convert');\n",
              "        buttonEl.style.display =\n",
              "          google.colab.kernel.accessAllowed ? 'block' : 'none';\n",
              "\n",
              "        async function convertToInteractive(key) {\n",
              "          const element = document.querySelector('#df-65c0484d-a6ce-4544-9f79-e6fff7b3795f');\n",
              "          const dataTable =\n",
              "            await google.colab.kernel.invokeFunction('convertToInteractive',\n",
              "                                                     [key], {});\n",
              "          if (!dataTable) return;\n",
              "\n",
              "          const docLinkHtml = 'Like what you see? Visit the ' +\n",
              "            '<a target=\"_blank\" href=https://colab.research.google.com/notebooks/data_table.ipynb>data table notebook</a>'\n",
              "            + ' to learn more about interactive tables.';\n",
              "          element.innerHTML = '';\n",
              "          dataTable['output_type'] = 'display_data';\n",
              "          await google.colab.output.renderOutput(dataTable, element);\n",
              "          const docLink = document.createElement('div');\n",
              "          docLink.innerHTML = docLinkHtml;\n",
              "          element.appendChild(docLink);\n",
              "        }\n",
              "      </script>\n",
              "    </div>\n",
              "  </div>\n",
              "  "
            ],
            "text/plain": [
              "      ano_pesquisa                           variavel  codigo_cnae  \\\n",
              "0             2018          Número de empresas ativas        41.00   \n",
              "1             2018          Número de empresas ativas        42.00   \n",
              "2             2018          Número de empresas ativas        43.00   \n",
              "3             2018          Número de empresas ativas        41.00   \n",
              "4             2018          Número de empresas ativas        41.10   \n",
              "...            ...                                ...          ...   \n",
              "2731          2020  Ativo imobilizado - outras baixas        43.30   \n",
              "2732          2020  Ativo imobilizado - outras baixas        43.30   \n",
              "2733          2020  Ativo imobilizado - outras baixas        43.90   \n",
              "2734          2020  Ativo imobilizado - outras baixas        43.91   \n",
              "2735          2020  Ativo imobilizado - outras baixas        43.99   \n",
              "\n",
              "                  categoria_empresa  valor    unidade  \\\n",
              "0        Empresas entre 1 e 4 de PO  23640   Unidades   \n",
              "1        Empresas entre 1 e 4 de PO   4983   Unidades   \n",
              "2        Empresas entre 1 e 4 de PO  40367   Unidades   \n",
              "3       Empresas entre 5 e 29 de PO  19247   Unidades   \n",
              "4       Empresas entre 5 e 29 de PO   1146   Unidades   \n",
              "...                             ...    ...        ...   \n",
              "2731  Empresas com 30 ou mais de PO   2886  Mil Reais   \n",
              "2732  Empresas com 30 ou mais de PO   2886  Mil Reais   \n",
              "2733  Empresas com 30 ou mais de PO  11080  Mil Reais   \n",
              "2734  Empresas com 30 ou mais de PO   1439  Mil Reais   \n",
              "2735  Empresas com 30 ou mais de PO   9641  Mil Reais   \n",
              "\n",
              "                         pesquisa  \n",
              "0               emprego_e_salario  \n",
              "1               emprego_e_salario  \n",
              "2               emprego_e_salario  \n",
              "3               emprego_e_salario  \n",
              "4               emprego_e_salario  \n",
              "...                           ...  \n",
              "2731  estrutura_dos_investimentos  \n",
              "2732  estrutura_dos_investimentos  \n",
              "2733  estrutura_dos_investimentos  \n",
              "2734  estrutura_dos_investimentos  \n",
              "2735  estrutura_dos_investimentos  \n",
              "\n",
              "[15840 rows x 7 columns]"
            ]
          },
          "execution_count": 7,
          "metadata": {},
          "output_type": "execute_result"
        }
      ],
      "source": [
        "tabela_silver_unificada"
      ]
    },
    {
      "cell_type": "code",
      "execution_count": null,
      "metadata": {
        "colab": {
          "base_uri": "https://localhost:8080/",
          "height": 298
        },
        "id": "o6AL-q_9XZvg",
        "outputId": "ab15d016-de43-4738-fecd-92a587123460"
      },
      "outputs": [
        {
          "data": {
            "text/plain": [
              "<matplotlib.axes._subplots.AxesSubplot at 0x7fb1b72ca3d0>"
            ]
          },
          "execution_count": 8,
          "metadata": {},
          "output_type": "execute_result"
        },
        {
          "data": {
            "image/png": "[encoded data removed]",
            "text/plain": [
              "<Figure size 432x288 with 1 Axes>"
            ]
          },
          "metadata": {
            "needs_background": "light"
          },
          "output_type": "display_data"
        }
      ],
      "source": [
        "(\n",
        "    tabela_silver_unificada\n",
        "    .groupby(by=[\"pesquisa\"])[\"pesquisa\"]\n",
        "    .agg(func=\"count\")\n",
        "    .plot(\n",
        "        kind=\"barh\",\n",
        "        title=\"Total de linhas por pesquisa\",\n",
        "        sort_columns=True\n",
        "    )\n",
        ")"
      ]
    },
    {
      "cell_type": "code",
      "execution_count": null,
      "metadata": {
        "colab": {
          "base_uri": "https://localhost:8080/"
        },
        "id": "QPP_3rxpZpb5",
        "outputId": "ff5e97be-9081-48cd-a1ce-a86933bb8f52"
      },
      "outputs": [
        {
          "name": "stdout",
          "output_type": "stream",
          "text": [
            "2022-09-23 23:01:51.174682 - A coluna 'variavel' tem valores nulos? False\n",
            "2022-09-23 23:01:51.176212 - A coluna 'codigo_cnae' tem valores nulos? False\n",
            "2022-09-23 23:01:51.178610 - A coluna 'categoria_empresa' tem valores nulos? False\n",
            "2022-09-23 23:01:51.194441 - A coluna 'valor' tem valores nulos? False\n",
            "2022-09-23 23:01:51.197802 - A coluna 'unidade' tem valores nulos? False\n"
          ]
        }
      ],
      "source": [
        "lista_de_colunas = [\n",
        "    \"variavel\", \"codigo_cnae\", \"categoria_empresa\",\n",
        "    \"valor\", \"unidade\"\n",
        "]\n",
        "for coluna in lista_de_colunas:\n",
        "    tem_valor_nulo = tabela_silver_unificada[coluna].isnull().values.any()\n",
        "    logger.log_informacao(\n",
        "        mensagem=f\"A coluna '{coluna}' tem valores nulos? {tem_valor_nulo}\")"
      ]
    },
    {
      "cell_type": "code",
      "execution_count": null,
      "metadata": {
        "colab": {
          "base_uri": "https://localhost:8080/"
        },
        "id": "p48J53-NrHXj",
        "outputId": "ffa3bb37-0baf-4fcb-f63d-961f0ee14426"
      },
      "outputs": [
        {
          "name": "stdout",
          "output_type": "stream",
          "text": [
            "<class 'pandas.core.frame.DataFrame'>\n",
            "Int64Index: 14850 entries, 0 to 3311\n",
            "Data columns (total 7 columns):\n",
            " #   Column             Non-Null Count  Dtype  \n",
            "---  ------             --------------  -----  \n",
            " 0   ano_pesquisa       14850 non-null  int64  \n",
            " 1   variavel           14850 non-null  object \n",
            " 2   codigo_cnae        14850 non-null  float64\n",
            " 3   categoria_empresa  14850 non-null  object \n",
            " 4   valor              14850 non-null  object \n",
            " 5   unidade            14850 non-null  object \n",
            " 6   pesquisa           14850 non-null  object \n",
            "dtypes: float64(1), int64(1), object(5)\n",
            "memory usage: 928.1+ KB\n"
          ]
        }
      ],
      "source": [
        "tabela_silver_unificada.drop_duplicates().info()"
      ]
    }
  ],
  "metadata": {
    "colab": {
      "provenance": [],
      "toc_visible": true
    },
    "kernelspec": {
      "display_name": "Python 3.10.0 64-bit",
      "language": "python",
      "name": "python3"
    },
    "language_info": {
      "name": "python",
      "version": "3.10.0"
    },
    "vscode": {
      "interpreter": {
        "hash": "f263c321c23078c0ed608ada3ae3fd1736e598b2a7ceb839c011cff104fe4649"
      }
    }
  },
  "nbformat": 4,
  "nbformat_minor": 0
}
