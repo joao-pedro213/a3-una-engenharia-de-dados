{
 "cells": [
  {
   "cell_type": "code",
   "execution_count": null,
   "metadata": {},
   "outputs": [],
   "source": [
    "from sys import path\n",
    "\n",
    "from numpy import where\n",
    "from pandas import DataFrame\n",
    "\n",
    "path.append(\"../../../\")\n",
    "from componentes.pipeline.pipeline import Pipeline\n",
    "from componentes.artefato.arquivo import Arquivo\n",
    "from componentes.container.container_bronze import ContainerBronze\n",
    "from componentes.container.container_silver import ContainerSilver\n",
    "from componentes.container.categoria_de_armazenamento import \\\n",
    "    CategoriaDeArmazenamento\n",
    "from utils.transformacoes_dataframe import remover_espacamento_das_colunas"
   ]
  },
  {
   "cell_type": "code",
   "execution_count": null,
   "metadata": {},
   "outputs": [],
   "source": [
    "class CNAEBronzeParaSilver(Pipeline):\n",
    "    \"\"\"\n",
    "    Pipeline de dados responsável por executar o processamento de artefatos\n",
    "    do CNAE de categoria bronze para silver\n",
    "    \"\"\"\n",
    "    def _transformar_dados(self, dataframe: DataFrame) -> DataFrame:\n",
    "        \"\"\"\n",
    "        Realiza a normalização e tratamento de dados do artefato\n",
    "        de referência para a tabela de CNAE\n",
    "        \"\"\"\n",
    "        self._logger.log_mensagem(mensagem=\"Iniciando transformações\")\n",
    "        dataframe = self._criar_coluna_codigo_cnae(dataframe=dataframe)\n",
    "        dataframe = self._criar_coluna_tipo_cnae(dataframe=dataframe)\n",
    "        dataframe = self._remover_colunas_desnecessarias(dataframe=dataframe)\n",
    "        dataframe = remover_espacamento_das_colunas(dataframe=dataframe)\n",
    "        return dataframe\n",
    "    \n",
    "    def _criar_coluna_codigo_cnae(self, dataframe: DataFrame) -> DataFrame:\n",
    "        \"\"\"\n",
    "        Cria a coluna codigo_cnae unificando as colunas já existentes\n",
    "        divisao, grupo e classe\n",
    "        \"\"\"\n",
    "        self._logger.log_mensagem(mensagem=\"Criando coluna codigo_cnae\")\n",
    "        dataframe[\"cogido_cnae\"] = (\n",
    "            dataframe[\"divisao\"]\n",
    "            .fillna(value=dataframe[\"grupo\"])\n",
    "            .fillna(value=dataframe[\"classe\"]))\n",
    "        return dataframe\n",
    "\n",
    "    def _criar_coluna_tipo_cnae(self, dataframe: DataFrame) -> DataFrame:\n",
    "        \"\"\"\n",
    "        Cria a coluna tipo_cnae se baseando no preenchimento das colunas já\n",
    "        divisao, grupo e classe\n",
    "        \"\"\"\n",
    "        self._logger.log_mensagem(mensagem=\"Criando coluna tipo_cnae\")\n",
    "        dataframe[\"tipo_cnae\"] = (\n",
    "            where(dataframe[\"divisao\"].isnull() == False, \"Divisão\",\n",
    "            where(dataframe[\"grupo\"].isnull() == False, \"Grupo\",\n",
    "            where(dataframe[\"classe\"].isnull() == False, \"Classe\", None))))\n",
    "        return dataframe\n",
    "\n",
    "    def _remover_colunas_desnecessarias(self, dataframe: DataFrame) -> DataFrame:\n",
    "        \"\"\"\n",
    "        Remoção de colunas indesejadas\n",
    "        \"\"\"\n",
    "        self._logger.log_mensagem(mensagem=\"Removendo colunas desnecessárias\")\n",
    "        return dataframe.drop(columns=[\"divisao\", \"grupo\", \"classe\"])"
   ]
  },
  {
   "cell_type": "code",
   "execution_count": null,
   "metadata": {},
   "outputs": [],
   "source": [
    "artefato_de_entrada = Arquivo(\n",
    "    nome=\"construcao\",\n",
    "    categoria_de_armazenamento=CategoriaDeArmazenamento.BRONZE,\n",
    "    fonte=\"cnae\")\n",
    "container_de_entrada = ContainerBronze()\n",
    "artefato_de_saida = Arquivo(\n",
    "    nome=\"construcao\",\n",
    "    categoria_de_armazenamento=CategoriaDeArmazenamento.SILVER,\n",
    "    fonte=\"cnae\")\n",
    "container_de_saida = ContainerSilver()\n",
    "pipeline = CNAEBronzeParaSilver(\n",
    "    artefato_de_entrada=artefato_de_entrada,\n",
    "    container_de_entrada=container_de_entrada,\n",
    "    artefato_de_saida=artefato_de_saida,\n",
    "    container_de_saida=container_de_saida)\n",
    "pipeline.executar_etl()"
   ]
  }
 ],
 "metadata": {
  "kernelspec": {
   "display_name": "Python 3.10.0 64-bit",
   "language": "python",
   "name": "python3"
  },
  "language_info": {
   "codemirror_mode": {
    "name": "ipython",
    "version": 3
   },
   "file_extension": ".py",
   "mimetype": "text/x-python",
   "name": "python",
   "nbconvert_exporter": "python",
   "pygments_lexer": "ipython3",
   "version": "3.10.0"
  },
  "orig_nbformat": 4,
  "vscode": {
   "interpreter": {
    "hash": "f263c321c23078c0ed608ada3ae3fd1736e598b2a7ceb839c011cff104fe4649"
   }
  }
 },
 "nbformat": 4,
 "nbformat_minor": 2
}
