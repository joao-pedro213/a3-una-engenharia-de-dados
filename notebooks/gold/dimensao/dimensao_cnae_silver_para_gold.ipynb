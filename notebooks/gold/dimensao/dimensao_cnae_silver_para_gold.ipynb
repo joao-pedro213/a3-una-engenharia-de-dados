{
 "cells": [
  {
   "cell_type": "code",
   "execution_count": null,
   "metadata": {},
   "outputs": [],
   "source": [
    "from sys import path\n",
    "\n",
    "from pandas import DataFrame\n",
    "\n",
    "path.append(\"../../../\")\n",
    "from componentes.pipeline.pipeline import Pipeline\n",
    "from componentes.artefato.arquivo import Arquivo\n",
    "from componentes.container.container_silver import ContainerSilver\n",
    "from componentes.container.container_gold import ContainerGold\n",
    "from componentes.container.categoria_de_armazenamento import \\\n",
    "    CategoriaDeArmazenamento\n",
    "from notebooks.silver.cnae.schema.cnae_schema import get_cnae_silver_schema"
   ]
  },
  {
   "cell_type": "code",
   "execution_count": null,
   "metadata": {},
   "outputs": [],
   "source": [
    "class DimensaoCNAESilverParaGold(Pipeline):\n",
    "    \"\"\"\n",
    "    Pipeline de dados responsável por executar o processamento de artefatos\n",
    "    de categoria silver para gold gerando a dimensao cnae\n",
    "    \"\"\"\n",
    "    def _transformar_dados(self, dataframe: DataFrame) -> DataFrame:\n",
    "        \"\"\"\n",
    "        Transforma os dados para criar a modelagem de dimensão\n",
    "        \"\"\"\n",
    "        self._logger.log_mensagem(mensagem=\"Iniciando transformações\")\n",
    "        dataframe = self._selecionar_e_renomear_colunas(dataframe=dataframe)\n",
    "        dataframe = self._criar_id_cnae(dataframe=dataframe)\n",
    "        return dataframe\n",
    "    \n",
    "    def _selecionar_e_renomear_colunas(self, dataframe: DataFrame) -> DataFrame:\n",
    "        \"\"\"\n",
    "        Seleciona as colunas necessárias do arquivo CNAE silver e renomeia as\n",
    "        colunas de acordo com a modelagem definida\n",
    "        \"\"\"\n",
    "        self._logger.log_mensagem(mensagem=\"Selecionando e renomenado colunas\")\n",
    "        return (\n",
    "            dataframe[[\"denominacao\", \"codigo_cnae\", \"tipo_cnae\"]]\n",
    "            .rename(\n",
    "                columns={\n",
    "                    \"denominacao\": \"descricao\",\n",
    "                    \"codigo_cnae\": \"codigo\",\n",
    "                    \"tipo_cnae\": \"tipo\"}))\n",
    "    \n",
    "    def _criar_id_cnae(self, dataframe: DataFrame) -> DataFrame:\n",
    "        \"\"\"\n",
    "        Criar um novo identificador único para dimensão\n",
    "        \"\"\"\n",
    "        self._logger.log_mensagem(mensagem=\"Criando coluna id_cnae\")\n",
    "        dataframe[\"id_cnae\"] = dataframe.reset_index().index + 1\n",
    "        return dataframe"
   ]
  },
  {
   "cell_type": "code",
   "execution_count": null,
   "metadata": {},
   "outputs": [],
   "source": [
    "artefato_de_entrada = Arquivo(\n",
    "    nome=\"construcao\",\n",
    "    categoria_de_armazenamento=CategoriaDeArmazenamento.SILVER,\n",
    "    fonte=\"cnae\",\n",
    "    schema=get_cnae_silver_schema())\n",
    "container_de_entrada = ContainerSilver()\n",
    "artefato_de_saida = Arquivo(\n",
    "    nome=\"dimensao_cnae\",\n",
    "    categoria_de_armazenamento=CategoriaDeArmazenamento.GOLD,\n",
    "    fonte=\"dimensao\")\n",
    "container_de_saida = ContainerGold()\n",
    "pipeline = DimensaoCNAESilverParaGold(\n",
    "    artefato_de_entrada=artefato_de_entrada,\n",
    "    container_de_entrada=container_de_entrada,\n",
    "    artefato_de_saida=artefato_de_saida,\n",
    "    container_de_saida=container_de_saida)\n",
    "pipeline.executar_etl()"
   ]
  }
 ],
 "metadata": {
  "kernelspec": {
   "display_name": "Python 3.10.0 64-bit",
   "language": "python",
   "name": "python3"
  },
  "language_info": {
   "codemirror_mode": {
    "name": "ipython",
    "version": 3
   },
   "file_extension": ".py",
   "mimetype": "text/x-python",
   "name": "python",
   "nbconvert_exporter": "python",
   "pygments_lexer": "ipython3",
   "version": "3.10.0"
  },
  "orig_nbformat": 4,
  "vscode": {
   "interpreter": {
    "hash": "f263c321c23078c0ed608ada3ae3fd1736e598b2a7ceb839c011cff104fe4649"
   }
  }
 },
 "nbformat": 4,
 "nbformat_minor": 2
}
