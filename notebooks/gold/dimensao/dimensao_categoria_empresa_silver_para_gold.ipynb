{
 "cells": [
  {
   "cell_type": "code",
   "execution_count": null,
   "metadata": {},
   "outputs": [],
   "source": [
    "from sys import path\n",
    "\n",
    "from pandas import DataFrame\n",
    "\n",
    "path.append(\"../../../\")\n",
    "from componentes.pipeline.pipeline import Pipeline\n",
    "from componentes.artefato.arquivo import Arquivo\n",
    "from componentes.container.container_gold import ContainerGold\n",
    "from componentes.container.categoria_de_armazenamento import \\\n",
    "    CategoriaDeArmazenamento\n",
    "from notebooks.silver.paic.dataframe_paic_silver import DataFramePAICSilver"
   ]
  },
  {
   "cell_type": "code",
   "execution_count": null,
   "metadata": {},
   "outputs": [],
   "source": [
    "class DimensaoCategoriaEmpresaSilverParaGold(Pipeline):\n",
    "    \"\"\"\n",
    "    Pipeline de dados responsável por executar o processamento de artefatos\n",
    "    de categoria silver para gold gerando a dimensao categoria empresa\n",
    "    \"\"\"\n",
    "    def _extrair_dados_da_fonte(self) -> DataFrame:\n",
    "        \"\"\"\n",
    "        Extraí os dados usando o objeto DataFramePAICSilver\n",
    "        \"\"\"\n",
    "        self._logger.log_mensagem(mensagem=f\"Criando a tabela PAIC silver\")\n",
    "        return DataFramePAICSilver().criar_dataframe()\n",
    "\n",
    "    def _transformar_dados(self, dataframe: DataFrame) -> DataFrame:\n",
    "        dataframe = self._selecionar_e_renomear_colunas(dataframe=dataframe)\n",
    "        dataframe = self._criar_categorias_distintas(dataframe=dataframe)\n",
    "        dataframe = self._criar_id_categoria(dataframe=dataframe)\n",
    "        return dataframe\n",
    "\n",
    "    def _selecionar_e_renomear_colunas(self, dataframe: DataFrame) -> DataFrame:\n",
    "        \"\"\"\n",
    "        Seleciona as colunas necessárias do DataFrame PAIC silver e as renomeia\n",
    "        de acordo com a modelagem definida\n",
    "        \"\"\"\n",
    "        self._logger.log_mensagem(mensagem=\"Selecionando e renomenado colunas\")\n",
    "        return (\n",
    "            dataframe[[\"categoria_empresa\"]]\n",
    "            .rename(columns={\"categoria_empresa\": \"nome\"}))\n",
    "\n",
    "    def _criar_categorias_distintas(self,dataframe: DataFrame) -> DataFrame:\n",
    "        \"\"\"\n",
    "        Cria um novo DataFrame com a remoção de linhas duplicadas\n",
    "        \"\"\"\n",
    "        return dataframe.drop_duplicates()\n",
    "\n",
    "    def _criar_id_categoria(self, dataframe: DataFrame) -> DataFrame:\n",
    "        \"\"\"\n",
    "        Criar um novo identificador único para dimensão\n",
    "        \"\"\"\n",
    "        self._logger.log_mensagem(mensagem=\"Criando coluna id_categoria\")\n",
    "        dataframe[\"id_categoria\"] = dataframe.reset_index().index + 1\n",
    "        return dataframe"
   ]
  },
  {
   "cell_type": "code",
   "execution_count": null,
   "metadata": {},
   "outputs": [],
   "source": [
    "artefato_de_saida = Arquivo(\n",
    "    nome=\"dimensao_categoria_empresa\",\n",
    "    categoria_de_armazenamento=CategoriaDeArmazenamento.GOLD,\n",
    "    fonte=\"dimensao\")\n",
    "container_de_saida = ContainerGold()\n",
    "pipeline = DimensaoCategoriaEmpresaSilverParaGold(\n",
    "    artefato_de_entrada=None,\n",
    "    container_de_entrada=None,\n",
    "    artefato_de_saida=artefato_de_saida,\n",
    "    container_de_saida=container_de_saida)\n",
    "pipeline.executar_etl()"
   ]
  }
 ],
 "metadata": {
  "kernelspec": {
   "display_name": "Python 3.10.0 64-bit",
   "language": "python",
   "name": "python3"
  },
  "language_info": {
   "codemirror_mode": {
    "name": "ipython",
    "version": 3
   },
   "file_extension": ".py",
   "mimetype": "text/x-python",
   "name": "python",
   "nbconvert_exporter": "python",
   "pygments_lexer": "ipython3",
   "version": "3.10.0"
  },
  "orig_nbformat": 4,
  "vscode": {
   "interpreter": {
    "hash": "f263c321c23078c0ed608ada3ae3fd1736e598b2a7ceb839c011cff104fe4649"
   }
  }
 },
 "nbformat": 4,
 "nbformat_minor": 2
}
