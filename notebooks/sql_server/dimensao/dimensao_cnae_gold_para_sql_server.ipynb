{
 "cells": [
  {
   "cell_type": "code",
   "execution_count": null,
   "metadata": {},
   "outputs": [],
   "source": [
    "from sys import path\n",
    "\n",
    "path.append(\"../../../\")\n",
    "from componentes.pipeline.pipeline import Pipeline\n",
    "from componentes.artefato.arquivo import Arquivo\n",
    "from componentes.artefato.tabela import Tabela\n",
    "from componentes.container.container_gold import ContainerGold\n",
    "from componentes.container.container_sql_server import ContainerSQLServer\n",
    "from componentes.container.categoria_de_armazenamento import \\\n",
    "    CategoriaDeArmazenamento"
   ]
  },
  {
   "cell_type": "code",
   "execution_count": null,
   "metadata": {},
   "outputs": [],
   "source": [
    "artefato_de_entrada = Arquivo(\n",
    "    nome=\"dimensao_cnae\",\n",
    "    categoria_de_armazenamento=CategoriaDeArmazenamento.GOLD,\n",
    "    fonte=\"dimensao\")\n",
    "container_de_entrada = ContainerGold()\n",
    "artefato_de_saida = Tabela(\n",
    "    nome=\"dimensao_cnae\",\n",
    "    banco_de_dados=\"paic\",\n",
    "    categoria_de_armazenamento=CategoriaDeArmazenamento.SQL_SERVER)\n",
    "container_de_saida = ContainerSQLServer()\n",
    "pipeline = Pipeline(\n",
    "    artefato_de_entrada=artefato_de_entrada,\n",
    "    container_de_entrada=container_de_entrada,\n",
    "    artefato_de_saida=artefato_de_saida,\n",
    "    container_de_saida=container_de_saida)\n",
    "pipeline.executar_etl()"
   ]
  }
 ],
 "metadata": {
  "kernelspec": {
   "display_name": "Python 3.10.0 64-bit",
   "language": "python",
   "name": "python3"
  },
  "language_info": {
   "codemirror_mode": {
    "name": "ipython",
    "version": 3
   },
   "file_extension": ".py",
   "mimetype": "text/x-python",
   "name": "python",
   "nbconvert_exporter": "python",
   "pygments_lexer": "ipython3",
   "version": "3.10.0"
  },
  "orig_nbformat": 4,
  "vscode": {
   "interpreter": {
    "hash": "f263c321c23078c0ed608ada3ae3fd1736e598b2a7ceb839c011cff104fe4649"
   }
  }
 },
 "nbformat": 4,
 "nbformat_minor": 2
}
